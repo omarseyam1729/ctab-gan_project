{
 "cells": [
  {
   "cell_type": "code",
   "execution_count": 8,
   "metadata": {},
   "outputs": [],
   "source": [
    "# Importing the model\n",
    "from model.ctabgan import CTABGAN\n",
    "# Importing the evaluation metrics \n",
    "from model.eval.evalFidel import evaluate_fidelity\n",
    "# Importing standard libraries\n",
    "import numpy as np\n",
    "import pandas as pd\n",
    "import glob\n",
    "import os"
   ]
  },
  {
   "cell_type": "code",
   "execution_count": 9,
   "metadata": {},
   "outputs": [],
   "source": [
    "# Specifying the replication number \n",
    "num_exp = 1 \n",
    "# Specifying the name of the dataset used \n",
    "dataset = \"letter\" \n",
    "# Specifying the path of the dataset used \n",
    "real_path = \"Real_Datasets/Datasets/letter-recognition.csv\" \n",
    "# Specifying the root directory for storing generated data\n",
    "fake_file_root = \"Fake_Datasets\" "
   ]
  },
  {
   "cell_type": "code",
   "execution_count": 10,
   "metadata": {},
   "outputs": [
    {
     "name": "stdout",
     "output_type": "stream",
     "text": [
      "282\n"
     ]
    },
    {
     "name": "stderr",
     "output_type": "stream",
     "text": [
      "100%|██████████| 10/10 [19:42<00:00, 118.20s/it]\n"
     ]
    },
    {
     "name": "stdout",
     "output_type": "stream",
     "text": [
      "Finished training in 1182.3428618907928 seconds.\n"
     ]
    }
   ],
   "source": [
    "# Initializing the synthesizer object and specifying input parameters\n",
    "# Notice: If you have continuous variable, you do not need to explicitly assign it. It will be treated like \n",
    "# that by default\n",
    "synthesizer =  CTABGAN(raw_csv_path = real_path,\n",
    "                 test_ratio = 0.20,  \n",
    "                 categorical_columns = ['letter', 'xbox ', 'ybox ', 'width ', 'height', 'onpix ', 'xbar ', 'ybar ', 'x2bar', 'y2bar ', 'xybar ', 'x2ybar', 'xy2bar', 'xedge ', 'xedgey', 'yedge ', 'yedgex'], \n",
    "                 log_columns = [],\n",
    "                 mixed_columns= {}, \n",
    "                 integer_columns = [],\n",
    "                 problem_type= {\"Classification\":'letter'},\n",
    "                 epochs = 10) \n",
    "\n",
    "\n",
    "for i in range(num_exp):\n",
    "    synthesizer.fit()\n",
    "    syn = synthesizer.generate_samples().iloc[:1000]\n",
    "    syn.to_csv(fake_file_root+\"/\"+dataset+\"/\"+ dataset+\"_fake_{exp}.csv\".format(exp=i), index= False)"
   ]
  },
  {
   "cell_type": "code",
   "execution_count": 11,
   "metadata": {},
   "outputs": [],
   "source": [
    "# Collecting the paths to all corresponding generated datasets for evaluation \n",
    "fake_paths = glob.glob(fake_file_root+\"/\"+dataset+\"/\"+\"*\")"
   ]
  },
  {
   "cell_type": "code",
   "execution_count": 12,
   "metadata": {},
   "outputs": [],
   "source": [
    "fake_paths=\"Fake_Datasets/\"+dataset+\"/\"+dataset+\"_fake_0.csv\""
   ]
  },
  {
   "cell_type": "code",
   "execution_count": 13,
   "metadata": {},
   "outputs": [
    {
     "name": "stdout",
     "output_type": "stream",
     "text": [
      "===== Model Test Accuracies (Train on Synthetic, Test on Real) =====\n",
      "Logistic Regression: 0.4860\n",
      "Random Forest: 0.4820\n",
      "XGBoost: 0.5060\n",
      "MLP Classifier: 0.4680\n",
      "\n",
      "Script finished.\n"
     ]
    }
   ],
   "source": [
    "import pandas as pd\n",
    "from sklearn.model_selection import train_test_split\n",
    "from sklearn.metrics import accuracy_score\n",
    "from sklearn.linear_model import LogisticRegression\n",
    "from sklearn.ensemble import RandomForestClassifier\n",
    "from xgboost import XGBClassifier\n",
    "from sklearn.neural_network import MLPClassifier\n",
    "from sklearn.preprocessing import LabelEncoder\n",
    "import warnings\n",
    "\n",
    "# Suppress warnings for cleaner output (optional)\n",
    "warnings.filterwarnings('ignore', category=FutureWarning)\n",
    "warnings.filterwarnings('ignore', category=UserWarning)\n",
    "\n",
    "# --- Configuration ---\n",
    "SYNTHETIC_DATA_PATH = \"Fake_Datasets/loan/loan_fake_0.csv\"\n",
    "REAL_DATA_PATH = \"Real_Datasets/Datasets/loan.csv\" # Adjust filename if needed\n",
    "TARGET_COLUMN = 'Online' # Change this if your target column has a different name\n",
    "TEST_SIZE = 0.2\n",
    "RANDOM_STATE = 123\n",
    "# ---------------------\n",
    "\n",
    "# --- Data Loading ---\n",
    "try:\n",
    "    synthetic_data = pd.read_csv(SYNTHETIC_DATA_PATH)\n",
    "    real_data = pd.read_csv(REAL_DATA_PATH)\n",
    "except FileNotFoundError as e:\n",
    "    print(f\"Error loading data: {e}\")\n",
    "    exit()\n",
    "\n",
    "# --- Preprocessing ---\n",
    "# Target Encoding\n",
    "le = LabelEncoder()\n",
    "real_data[TARGET_COLUMN] = le.fit_transform(real_data[TARGET_COLUMN])\n",
    "synthetic_data[TARGET_COLUMN] = le.transform(synthetic_data[TARGET_COLUMN])\n",
    "\n",
    "# Feature Separation\n",
    "X_synth_raw = synthetic_data.drop(columns=[TARGET_COLUMN])\n",
    "y_synth = synthetic_data[TARGET_COLUMN]\n",
    "X_real_raw = real_data.drop(columns=[TARGET_COLUMN])\n",
    "y_real = real_data[TARGET_COLUMN]\n",
    "\n",
    "# Feature One-Hot Encoding\n",
    "categorical_features = list(set(X_real_raw.select_dtypes(include=['object', 'category']).columns) |\n",
    "                            set(X_synth_raw.select_dtypes(include=['object', 'category']).columns))\n",
    "X_real_encoded = pd.get_dummies(X_real_raw, columns=categorical_features, dummy_na=False)\n",
    "X_synth_encoded = pd.get_dummies(X_synth_raw, columns=categorical_features, dummy_na=False)\n",
    "\n",
    "# Align Columns\n",
    "X_real_aligned, X_synth_aligned = X_real_encoded.align(X_synth_encoded, join='inner', axis=1, fill_value=0)\n",
    "\n",
    "# --- Train/Test Split ---\n",
    "X_real_train, X_real_test, y_real_train, y_real_test = train_test_split(\n",
    "    X_real_aligned, y_real, test_size=TEST_SIZE, random_state=RANDOM_STATE, stratify=y_real\n",
    ")\n",
    "\n",
    "# --- Define Classifiers ---\n",
    "classifiers = {\n",
    "    \"Logistic Regression\": LogisticRegression(max_iter=1000, random_state=RANDOM_STATE),\n",
    "    \"Random Forest\": RandomForestClassifier(random_state=RANDOM_STATE),\n",
    "    \"XGBoost\": XGBClassifier(use_label_encoder=False, eval_metric='mlogloss', random_state=RANDOM_STATE),\n",
    "    \"MLP Classifier\": MLPClassifier(max_iter=500, random_state=RANDOM_STATE)\n",
    "}\n",
    "\n",
    "# --- Train on Synthetic, Test on Real (Accuracy Only) ---\n",
    "print(\"===== Model Test Accuracies (Train on Synthetic, Test on Real) =====\")\n",
    "model_accuracies = []\n",
    "\n",
    "for name, model in classifiers.items():\n",
    "    try:\n",
    "        # Ensure consistent training data alignment - Fit on full aligned synthetic data\n",
    "        if X_synth_aligned.shape[0] == len(y_synth):\n",
    "            model.fit(X_synth_aligned, y_synth)\n",
    "            preds = model.predict(X_real_test)\n",
    "            acc = accuracy_score(y_real_test, preds)\n",
    "            print(f\"{name}: {acc:.4f}\")\n",
    "            model_accuracies.append({\"Model\": name, \"Accuracy\": acc})\n",
    "        else:\n",
    "            print(f\"{name}: Skipped (data row mismatch)\")\n",
    "\n",
    "    except Exception as e:\n",
    "        print(f\"{name}: Failed - {e}\")\n",
    "\n",
    "\n",
    "# --- Optional: Save Summary ---\n",
    "if model_accuracies:\n",
    "    evaluation_df = pd.DataFrame(model_accuracies)\n",
    "    evaluation_df.to_csv(\"evaluation_accuracy_only.csv\", index=False)\n",
    "    # print(\"\\nAccuracy summary saved to evaluation_accuracy_only.csv\")\n",
    "    # print(\"\\n--- Summary ---\")\n",
    "    # print(evaluation_df.sort_values(by=\"Accuracy\", ascending=False))\n",
    "else:\n",
    "    print(\"\\nNo models were successfully evaluated.\")\n",
    "\n",
    "print(\"\\nScript finished.\")"
   ]
  }
 ],
 "metadata": {
  "kernelspec": {
   "display_name": "jupyenv",
   "language": "python",
   "name": "python3"
  },
  "language_info": {
   "codemirror_mode": {
    "name": "ipython",
    "version": 3
   },
   "file_extension": ".py",
   "mimetype": "text/x-python",
   "name": "python",
   "nbconvert_exporter": "python",
   "pygments_lexer": "ipython3",
   "version": "3.12.7"
  }
 },
 "nbformat": 4,
 "nbformat_minor": 2
}
